{
 "cells": [
  {
   "cell_type": "code",
   "execution_count": 1,
   "metadata": {},
   "outputs": [],
   "source": [
    "import os\n",
    "from pathlib import Path\n",
    "\n",
    "from dotenv import load_dotenv"
   ]
  },
  {
   "cell_type": "code",
   "execution_count": 2,
   "metadata": {},
   "outputs": [],
   "source": [
    "load_dotenv(\".env\", override=True)\n",
    "if Path(\".env.local\").exists():\n",
    "  load_dotenv(\".env.local\", override=True)"
   ]
  },
  {
   "cell_type": "markdown",
   "metadata": {},
   "source": [
    "Used environment variables:\n",
    "- `DATASETS_DIRPATH`: Datasets desination directory path.\n",
    "- `TMP_DIRPATH`: Temporary directory path."
   ]
  },
  {
   "cell_type": "code",
   "execution_count": 3,
   "metadata": {},
   "outputs": [],
   "source": [
    "tmp_dirpath = Path(os.environ[\"TMP_DIRPATH\"]).resolve()\n",
    "datasets_dirpath = Path(os.environ[\"DATASETS_DIRPATH\"]).resolve()"
   ]
  },
  {
   "cell_type": "markdown",
   "metadata": {},
   "source": [
    "# Download"
   ]
  },
  {
   "cell_type": "markdown",
   "metadata": {},
   "source": [
    "Dataset is hosted on the DEEL platform: [here](https://share.deel.ai/s/H4iLKRmLkdBWqSt?path=%2Flard%2F1.0.0)."
   ]
  },
  {
   "cell_type": "code",
   "execution_count": 4,
   "metadata": {},
   "outputs": [],
   "source": [
    "# html root address of dataset storage\n",
    "html_root = \"https://share.deel.ai/s/H4iLKRmLkdBWqSt/download?path=%2Flard%2F1.0.0&files=\"\n",
    "# list of zip files to download (train / test datasets) (zipfile, csv entry point relative file path)\n",
    "train_archives = [\n",
    "    (\"LARD_train_BIRK_LFST.zip\", \"LARD_train_BIRK_LFST.csv\"),\n",
    "    (\"LARD_train_DAAG_DIAP.zip\", \"LARD_train_DAAG_DIAP.csv\"),\n",
    "    (\"LARD_train_KMSY.zip\", \"LARD_train_KMSY.csv\"),\n",
    "    (\"LARD_train_LFMP_LFPO.zip\", \"LARD_train_LFMP_LFPO.csv\"),\n",
    "    (\"LARD_train_LFQQ.zip\", \"LARD_train_LFQQ.csv\"),\n",
    "    (\"LARD_train_LPPT_SRLI.zip\", \"LARD_train_LPPT_SRLI.csv\"),\n",
    "    (\"LARD_train_VABB.zip\", \"LARD_train_VABB.csv\"),\n",
    "]\n",
    "valid_archives = [\n",
    "    (\"LARD_test_real.zip\", \"LARD_test_real_nominal/Test_Real_Nominal.csv\"),\n",
    "    (\"LARD_test_real.zip\", \"LARD_test_real_edge_cases/Test_Real_Edge_Cases.csv\"),\n",
    "    (\"LARD_test_synth.zip\", \"LARD_test_synth.csv\"),\n",
    "]"
   ]
  },
  {
   "cell_type": "markdown",
   "metadata": {},
   "source": [
    "Download dataset archive files:"
   ]
  },
  {
   "cell_type": "code",
   "execution_count": 5,
   "metadata": {},
   "outputs": [],
   "source": [
    "os.makedirs(tmp_dirpath.as_posix(), exist_ok=True)"
   ]
  },
  {
   "cell_type": "code",
   "execution_count": 6,
   "metadata": {},
   "outputs": [
    {
     "name": "stdout",
     "output_type": "stream",
     "text": [
      "Downloading ... LARD_train_BIRK_LFST.zip\n",
      "Downloading ... LARD_train_DAAG_DIAP.zip\n",
      "Downloading ... LARD_train_KMSY.zip\n",
      "Downloading ... LARD_train_LFMP_LFPO.zip\n",
      "Downloading ... LARD_train_LFQQ.zip\n",
      "Downloading ... LARD_train_LPPT_SRLI.zip\n",
      "Downloading ... LARD_train_VABB.zip\n",
      "Downloading ... LARD_test_real.zip\n",
      "Downloading ... LARD_test_real.zip\n",
      "Downloading ... LARD_test_synth.zip\n"
     ]
    }
   ],
   "source": [
    "for source_archive, _ in train_archives:\n",
    "    print(f\"Downloading ... {source_archive}\")\n",
    "    os.system(f'wget -nc \"{html_root+source_archive}\" -O {(tmp_dirpath / source_archive).as_posix()} > /dev/null 2>&1')\n",
    "for source_archive, _ in valid_archives:\n",
    "    print(f\"Downloading ... {source_archive}\")\n",
    "    os.system(f'wget -nc \"{html_root+source_archive}\" -O {(tmp_dirpath / source_archive).as_posix()} > /dev/null 2>&1')"
   ]
  },
  {
   "cell_type": "markdown",
   "metadata": {},
   "source": [
    "Unzip dataset archive files:"
   ]
  },
  {
   "cell_type": "code",
   "execution_count": 7,
   "metadata": {},
   "outputs": [
    {
     "name": "stdout",
     "output_type": "stream",
     "text": [
      "Unzipping ... LARD_train_BIRK_LFST.zip\n",
      "Target directory already exists! Please delete it to avoid overriding existing files.\n",
      "Unzipping ... LARD_train_DAAG_DIAP.zip\n",
      "Target directory already exists! Please delete it to avoid overriding existing files.\n",
      "Unzipping ... LARD_train_KMSY.zip\n",
      "Target directory already exists! Please delete it to avoid overriding existing files.\n",
      "Unzipping ... LARD_train_LFMP_LFPO.zip\n",
      "Target directory already exists! Please delete it to avoid overriding existing files.\n",
      "Unzipping ... LARD_train_LFQQ.zip\n",
      "Target directory already exists! Please delete it to avoid overriding existing files.\n",
      "Unzipping ... LARD_train_LPPT_SRLI.zip\n",
      "Target directory already exists! Please delete it to avoid overriding existing files.\n",
      "Unzipping ... LARD_train_VABB.zip\n",
      "Target directory already exists! Please delete it to avoid overriding existing files.\n",
      "Unzipping ... LARD_test_real.zip\n",
      "Target directory already exists! Please delete it to avoid overriding existing files.\n",
      "Unzipping ... LARD_test_real.zip\n",
      "Target directory already exists! Please delete it to avoid overriding existing files.\n",
      "Unzipping ... LARD_test_synth.zip\n"
     ]
    }
   ],
   "source": [
    "for source_archive, _ in train_archives:\n",
    "    print(f\"Unzipping ... {source_archive}\")\n",
    "    dest_dirpath = tmp_dirpath / source_archive.rpartition('.')[0]\n",
    "    if not dest_dirpath.exists():\n",
    "        os.system(f'unzip -q -o {(tmp_dirpath / source_archive).as_posix()} -d {tmp_dirpath.as_posix()}')\n",
    "    else:\n",
    "        print(f\"Target directory already exists! Please delete it to avoid overriding existing files.\")\n",
    "for source_archive, _ in valid_archives:\n",
    "    print(f\"Unzipping ... {source_archive}\")\n",
    "    dest_dirpath = tmp_dirpath / source_archive.rpartition('.')[0]\n",
    "    if not dest_dirpath.exists():\n",
    "        os.system(f'unzip -q -o {(tmp_dirpath / source_archive).as_posix()} -d {tmp_dirpath.as_posix()}')\n",
    "    else:\n",
    "        print(f\"Target directory already exists! Please delete it to avoid overriding existing files.\")"
   ]
  }
 ],
 "metadata": {
  "kernelspec": {
   "display_name": ".venv",
   "language": "python",
   "name": "python3"
  },
  "language_info": {
   "codemirror_mode": {
    "name": "ipython",
    "version": 3
   },
   "file_extension": ".py",
   "mimetype": "text/x-python",
   "name": "python",
   "nbconvert_exporter": "python",
   "pygments_lexer": "ipython3",
   "version": "3.10.13"
  },
  "vscode": {
   "interpreter": {
    "hash": "db9ad703fbf6fb75b25fbb7ef8463909ae7c8f121948e95593823d24ce5f008d"
   }
  }
 },
 "nbformat": 4,
 "nbformat_minor": 4
}
