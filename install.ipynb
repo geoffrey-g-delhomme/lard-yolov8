{
 "cells": [
  {
   "attachments": {},
   "cell_type": "markdown",
   "metadata": {},
   "source": [
    "TODO:\n",
    "- dezipper dans datasets_dirpath / raw"
   ]
  },
  {
   "cell_type": "code",
   "execution_count": 3,
   "metadata": {},
   "outputs": [],
   "source": [
    "import os\n",
    "from pathlib import Path\n",
    "\n",
    "from dotenv import load_dotenv"
   ]
  },
  {
   "cell_type": "code",
   "execution_count": null,
   "metadata": {},
   "outputs": [],
   "source": [
    "load_dotenv(\".env\", override=True)\n",
    "if Path(\".env.local\").exists():\n",
    "  load_dotenv(\".env.local\", override=True)"
   ]
  },
  {
   "cell_type": "markdown",
   "metadata": {},
   "source": [
    "Used environment variables:\n",
    "- `DATASETS_DIRPATH`: Datasets desination directory path.\n",
    "- `TMP_DIRPATH`: Temporary directory path."
   ]
  },
  {
   "cell_type": "code",
   "execution_count": null,
   "metadata": {},
   "outputs": [],
   "source": [
    "tmp_dirpath = Path(os.environ[\"TMP_DIRPATH\"]).resolve()\n",
    "datasets_dirpath = Path(os.environ[\"DATASETS_DIRPATH\"]).resolve()"
   ]
  },
  {
   "cell_type": "markdown",
   "metadata": {},
   "source": [
    "# Download"
   ]
  },
  {
   "cell_type": "markdown",
   "metadata": {},
   "source": [
    "Dataset is hosted on the DEEL platform: [here](https://share.deel.ai/s/H4iLKRmLkdBWqSt?path=%2Flard%2F1.0.0)."
   ]
  },
  {
   "cell_type": "code",
   "execution_count": 4,
   "metadata": {},
   "outputs": [],
   "source": [
    "# html root address of dataset storage\n",
    "html_root = \"https://share.deel.ai/s/H4iLKRmLkdBWqSt/download?path=%2Flard%2F1.0.0&files=\"\n",
    "# list of zip files to download (train / test datasets) (zipfile, csv entry point relative file path)\n",
    "train_archives = [\n",
    "    (\"LARD_train_BIRK_LFST.zip\", \"LARD_train_BIRK_LFST.csv\"),\n",
    "    (\"LARD_train_DAAG_DIAP.zip\", \"LARD_train_DAAG_DIAP.csv\"),\n",
    "    (\"LARD_train_KMSY.zip\", \"LARD_train_KMSY.csv\"),\n",
    "    (\"LARD_train_LFMP_LFPO.zip\", \"LARD_train_LFMP_LFPO.csv\"),\n",
    "    (\"LARD_train_LFQQ.zip\", \"LARD_train_LFQQ.csv\"),\n",
    "    (\"LARD_train_LPPT_SRLI.zip\", \"LARD_train_LPPT_SRLI.csv\"),\n",
    "    (\"LARD_train_VABB.zip\", \"LARD_train_VABB.csv\"),\n",
    "]\n",
    "valid_archives = [\n",
    "    (\"LARD_test_real.zip\", \"LARD_test_real_nominal_cases/LARD_test_real_nominal_cases.csv\"),\n",
    "    (\"LARD_test_synth.zip\", \"LARD_test_synth.csv\"),\n",
    "]"
   ]
  },
  {
   "cell_type": "markdown",
   "metadata": {},
   "source": [
    "Download dataset archive files:"
   ]
  },
  {
   "cell_type": "code",
   "execution_count": 5,
   "metadata": {},
   "outputs": [
    {
     "name": "stdout",
     "output_type": "stream",
     "text": [
      "Downloading ... LARD_train_BIRK_LFST.zip\n",
      "File `/efs/players/to122838/projects/lard-yolov8/tmp/LARD_train_BIRK_LFST.zip' already there; not retrieving.\n",
      "CPU times: user 361 µs, sys: 3.01 ms, total: 3.37 ms\n",
      "Wall time: 110 ms\n",
      "Downloading ... LARD_train_DAAG_DIAP.zip\n",
      "File `/efs/players/to122838/projects/lard-yolov8/tmp/LARD_train_DAAG_DIAP.zip' already there; not retrieving.\n",
      "CPU times: user 2.73 ms, sys: 817 µs, total: 3.55 ms\n",
      "Wall time: 110 ms\n",
      "Downloading ... LARD_train_KMSY.zip\n",
      "File `/efs/players/to122838/projects/lard-yolov8/tmp/LARD_train_KMSY.zip' already there; not retrieving.\n",
      "CPU times: user 3.55 ms, sys: 0 ns, total: 3.55 ms\n",
      "Wall time: 111 ms\n",
      "Downloading ... LARD_train_LFMP_LFPO.zip\n",
      "File `/efs/players/to122838/projects/lard-yolov8/tmp/LARD_train_LFMP_LFPO.zip' already there; not retrieving.\n",
      "CPU times: user 0 ns, sys: 3.58 ms, total: 3.58 ms\n",
      "Wall time: 111 ms\n",
      "Downloading ... LARD_train_LFQQ.zip\n",
      "File `/efs/players/to122838/projects/lard-yolov8/tmp/LARD_train_LFQQ.zip' already there; not retrieving.\n",
      "CPU times: user 529 µs, sys: 3.01 ms, total: 3.54 ms\n",
      "Wall time: 110 ms\n",
      "Downloading ... LARD_train_LPPT_SRLI.zip\n",
      "File `/efs/players/to122838/projects/lard-yolov8/tmp/LARD_train_LPPT_SRLI.zip' already there; not retrieving.\n",
      "CPU times: user 2.67 ms, sys: 837 µs, total: 3.51 ms\n",
      "Wall time: 110 ms\n",
      "Downloading ... LARD_train_VABB.zip\n",
      "File `/efs/players/to122838/projects/lard-yolov8/tmp/LARD_train_VABB.zip' already there; not retrieving.\n",
      "CPU times: user 369 µs, sys: 3.69 ms, total: 4.06 ms\n",
      "Wall time: 110 ms\n",
      "Downloading ... LARD_test_real.zip\n",
      "File `/efs/players/to122838/projects/lard-yolov8/tmp/LARD_test_real.zip' already there; not retrieving.\n",
      "CPU times: user 0 ns, sys: 3.2 ms, total: 3.2 ms\n",
      "Wall time: 109 ms\n",
      "Downloading ... LARD_test_synth.zip\n",
      "File `/efs/players/to122838/projects/lard-yolov8/tmp/LARD_test_synth.zip' already there; not retrieving.\n",
      "CPU times: user 0 ns, sys: 3.35 ms, total: 3.35 ms\n",
      "Wall time: 109 ms\n"
     ]
    }
   ],
   "source": [
    "!mkdir -p {tmp_dirpath.as_posix()}\n",
    "for source_archive, _ in train_archives:\n",
    "    print(f\"Downloading ... {source_archive}\")\n",
    "    %time !wget -nc {\"\\\"\"+html_root+source_archive+\"\\\"\"} -O {(tmp_dirpath / source_archive).as_posix()}\n",
    "for source_archive, _ in valid_archives:\n",
    "    print(f\"Downloading ... {source_archive}\")\n",
    "    %time !wget -nc {\"\\\"\"+html_root+source_archive+\"\\\"\"} -O {(tmp_dirpath / source_archive).as_posix()}"
   ]
  },
  {
   "cell_type": "markdown",
   "metadata": {},
   "source": [
    "Unzip dataset archive files:"
   ]
  },
  {
   "cell_type": "code",
   "execution_count": 6,
   "metadata": {},
   "outputs": [
    {
     "name": "stdout",
     "output_type": "stream",
     "text": [
      "Unzipping ... LARD_train_BIRK_LFST.zip\n",
      "CPU times: user 991 ms, sys: 317 ms, total: 1.31 s\n",
      "Wall time: 2min 3s\n",
      "Unzipping ... LARD_train_DAAG_DIAP.zip\n",
      "CPU times: user 992 ms, sys: 244 ms, total: 1.24 s\n",
      "Wall time: 1min 57s\n",
      "Unzipping ... LARD_train_KMSY.zip\n",
      "CPU times: user 1.23 s, sys: 300 ms, total: 1.53 s\n",
      "Wall time: 2min 24s\n",
      "Unzipping ... LARD_train_LFMP_LFPO.zip\n"
     ]
    }
   ],
   "source": [
    "for source_archive, _ in train_archives:\n",
    "    print(f\"Unzipping ... {source_archive}\")\n",
    "    if not (tmp_dirpath / source_archive.rpartition('.')[0]).exists():\n",
    "        %time !unzip -q -o ./tmp/{source_archive} -d {tmp_dirpath.as_posix()}\n",
    "    else:\n",
    "        print(f\"Target directory already exists! Please delete it to avoid overriding existing files.\")\n",
    "for source_archive, _ in valid_archives:\n",
    "    print(f\"Unzipping ... {source_archive}\")\n",
    "    if not (tmp_dirpath / source_archive.rpartition('.')[0]).exists():\n",
    "        %time !unzip -q -o ./tmp/{source_archive} -d {tmp_dirpath.as_posix()}\n",
    "    else:\n",
    "        print(f\"Target directory already exists! Please delete it to avoid overriding existing files.\")"
   ]
  }
 ],
 "metadata": {
  "kernelspec": {
   "display_name": ".venv",
   "language": "python",
   "name": "python3"
  },
  "language_info": {
   "codemirror_mode": {
    "name": "ipython",
    "version": 3
   },
   "file_extension": ".py",
   "mimetype": "text/x-python",
   "name": "python",
   "nbconvert_exporter": "python",
   "pygments_lexer": "ipython3",
   "version": "3.11.3"
  },
  "vscode": {
   "interpreter": {
    "hash": "db9ad703fbf6fb75b25fbb7ef8463909ae7c8f121948e95593823d24ce5f008d"
   }
  }
 },
 "nbformat": 4,
 "nbformat_minor": 4
}
